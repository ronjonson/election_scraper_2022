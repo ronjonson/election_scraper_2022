{
 "cells": [
  {
   "cell_type": "code",
   "execution_count": 1,
   "metadata": {},
   "outputs": [],
   "source": [
    "from selenium import webdriver\n",
    "from selenium.webdriver.common.by import By\n",
    "\n",
    "import time\n",
    "\n",
    "import pandas as pd"
   ]
  },
  {
   "cell_type": "code",
   "execution_count": 2,
   "metadata": {},
   "outputs": [],
   "source": [
    "\"\"\"Load Driver\"\"\"\n",
    "driver = webdriver.Firefox()\n",
    "driver.get(\"https://2022electionresults.comelec.gov.ph/#/er/0/\")"
   ]
  },
  {
   "cell_type": "code",
   "execution_count": 35,
   "metadata": {},
   "outputs": [],
   "source": [
    "\"\"\"CONSTANTS\"\"\"\n",
    "\n",
    "# Dropdowns\n",
    "region_dropdown = '//*[@id=\"container\"]/ui-view/div/div/div[1]/nav/div/ul/li/div[5]/div[2]/nav-filter/div/span/div/div/span/span'\n",
    "province_dropdown = '//*[@id=\"container\"]/ui-view/div/div/div[1]/nav/div/ul/li/div[5]/div[3]/nav-filter/div/span/div/div/span/span'\n",
    "city_dropdown0 = '//*[@id=\"container\"]/ui-view/div/div/div[1]/nav/div/ul/li/div[5]/div[4]/nav-filter/div/span/div/div/span/span'\n",
    "brgy_dropdown = '//*[@id=\"container\"]/ui-view/div/div/div[1]/nav/div/ul/li/div[5]/div[5]/nav-filter/div/span/div/div/span/span'\n",
    "precincts_dropdown = '//*[@id=\"container\"]/ui-view/div/div/div[1]/nav/div/ul/li/div[5]/div[6]/nav-filter/div/span/div/div/span/span'\n",
    "\n",
    "\n",
    "region_list = '//*[@id=\"container\"]/ui-view/div/div/div[1]/nav/div/ul/li/div[5]/div[2]/nav-filter/div/span/div/div/div[2]/ul/li[12]'\n",
    "province_list = '//*[@id=\"container\"]/ui-view/div/div/div[1]/nav/div/ul/li/div[5]/div[3]/nav-filter/div/span/div/div/div[2]/ul/li[6]'\n",
    "city_list = '//*[@id=\"container\"]/ui-view/div/div/div[1]/nav/div/ul/li/div[5]/div[4]/nav-filter/div/span/div/div/div[2]/ul/li[5]'\n",
    "brgy_list = '//*[@id=\"container\"]/ui-view/div/div/div[1]/nav/div/ul/li/div[5]/div[5]/nav-filter/div/span/div/div/div[2]/ul'\n",
    "precincts_list = '//*[@id=\"container\"]/ui-view/div/div/div[1]/nav/div/ul/li/div[5]/div[6]/nav-filter/div/span/div/div/div[2]/ul'\n",
    "\n",
    "# DATA\n",
    "precinct_metadata = '//*[@id=\"container\"]/ui-view/div/div/div[2]/div[2]/div[2]/results-viewer/div[2]/div[1]/div[2]'\n",
    "president_table = '''//*[@id=\"'resultDiv.'+5587\"]/div[1]'''\n",
    "vice_president_table = '''//*[@id=\"'resultDiv.'+5588\"]/div[1]'''\n",
    "senator_table = '''//*[@id=\"'resultDiv.'+5589\"]/div[1]'''\n",
    "partylist_table = '''//*[@id=\"'resultDiv.'+11172\"]/div[1]'''\n",
    "rep_table = '''//*[@id=\"'resultDiv.'+6120\"]/div[1]'''\n",
    "mayor_table = '''//*[@id=\"'resultDiv.'+7184\"]/div[1]'''\n",
    "vice_mayor_table = '''//*[@id=\"'resultDiv.'+8818\"]/div[1]'''\n",
    "sp_table = '''//*[@id=\"'resultDiv.'+10465\"]/div[1]'''"
   ]
  },
  {
   "cell_type": "code",
   "execution_count": null,
   "metadata": {},
   "outputs": [],
   "source": []
  },
  {
   "cell_type": "code",
   "execution_count": 4,
   "metadata": {},
   "outputs": [],
   "source": [
    "def click_option(dropdown, area):\n",
    "    driver.find_element(by=By.XPATH, value=dropdown).click()\n",
    "    time.sleep(0.5)\n",
    "    driver.find_element(by=By.XPATH, value=area).click()\n",
    "    time.sleep(1)"
   ]
  },
  {
   "cell_type": "code",
   "execution_count": null,
   "metadata": {},
   "outputs": [],
   "source": [
    "click_option(region_dropdown, region_list)\n",
    "click_option(province_dropdown, province_list)\n",
    "click_option(city_dropdown0, city_list)"
   ]
  },
  {
   "cell_type": "code",
   "execution_count": 6,
   "metadata": {},
   "outputs": [],
   "source": [
    "driver.find_element(by=By.XPATH, value=dropdown_4).click()"
   ]
  },
  {
   "cell_type": "code",
   "execution_count": 7,
   "metadata": {},
   "outputs": [
    {
     "name": "stdout",
     "output_type": "stream",
     "text": [
      "ALANGILAN\n",
      "ALIJIS\n",
      "BANAGO\n",
      "BARANGAY 10 (POB.)\n",
      "BARANGAY 11 (POB.)\n",
      "BARANGAY 12 (POB.)\n",
      "BARANGAY 13 (POB.)\n",
      "BARANGAY 14 (POB.)\n",
      "BARANGAY 15 (POB.)\n",
      "BARANGAY 16 (POB.)\n",
      "BARANGAY 17 (POB.)\n",
      "BARANGAY 18 (POB.)\n",
      "BARANGAY 19 (POB.)\n",
      "BARANGAY 20 (POB.)\n",
      "BARANGAY 21 (POB.)\n",
      "BARANGAY 22 (POB.)\n",
      "BARANGAY 23 (POB.)\n",
      "BARANGAY 24 (POB.)\n",
      "BARANGAY 25 (POB.)\n",
      "BARANGAY 26 (POB.)\n",
      "BARANGAY 27 (POB.)\n",
      "BARANGAY 28 (POB.)\n",
      "BARANGAY 29 (POB.)\n",
      "BARANGAY 30 (POB.)\n",
      "BARANGAY 31 (POB.)\n",
      "BARANGAY 32 (POB.)\n",
      "BARANGAY 33 (POB.)\n",
      "BARANGAY 34 (POB.)\n",
      "BARANGAY 35 (POB.)\n",
      "BARANGAY 36 (POB.)\n",
      "BARANGAY 37 (POB.)\n",
      "BARANGAY 38 (POB.)\n",
      "BARANGAY 39 (POB.)\n",
      "BARANGAY 40 (POB.)\n",
      "BARANGAY 41 (POB.)\n",
      "BARANGAY  1 (POB.)\n",
      "BARANGAY  2 (POB.)\n",
      "BARANGAY  3 (POB.)\n",
      "BARANGAY  4 (POB.)\n",
      "BARANGAY  5 (POB.)\n",
      "BARANGAY  6 (POB.)\n",
      "BARANGAY  7 (POB.)\n",
      "BARANGAY  8 (POB.)\n",
      "BARANGAY  9 (POB.)\n",
      "BATA\n",
      "CABUG\n",
      "ESTEFANIA\n",
      "FELISA\n",
      "GRANADA\n",
      "HANDUMANAN\n",
      "MANDALAGAN\n",
      "MANSILINGAN\n",
      "MONTEVISTA\n",
      "PAHANOCOY\n",
      "PUNTA TAYTAY\n",
      "SINGCANG-AIRPORT\n",
      "SUM-AG\n",
      "TACULING\n",
      "TANGUB\n",
      "VILLAMONTE\n",
      "VISTA ALEGRE\n"
     ]
    }
   ],
   "source": [
    "barangay_list = driver.find_element(by=By.XPATH, value=brgy)\n",
    "barangays = barangay_list.find_elements(by=By.TAG_NAME, value='li')\n",
    "for barangays in barangays:\n",
    "    print(barangays.text)"
   ]
  },
  {
   "cell_type": "code",
   "execution_count": 14,
   "metadata": {},
   "outputs": [],
   "source": [
    "driver.find_element(By.XPATH,dropdown_5).click()"
   ]
  },
  {
   "cell_type": "code",
   "execution_count": 18,
   "metadata": {},
   "outputs": [],
   "source": [
    "precinct_object = driver.find_element(by=By.XPATH, value=precincts_list)"
   ]
  },
  {
   "cell_type": "code",
   "execution_count": 19,
   "metadata": {},
   "outputs": [],
   "source": [
    "precinct_values = precinct_object.find_elements(by=By.TAG_NAME, value='li')"
   ]
  },
  {
   "cell_type": "code",
   "execution_count": 21,
   "metadata": {},
   "outputs": [],
   "source": [
    "precinct_values[0].click()"
   ]
  },
  {
   "cell_type": "code",
   "execution_count": 23,
   "metadata": {},
   "outputs": [],
   "source": [
    "data = driver.find_element(by=By.XPATH, value=precinct_metadata)"
   ]
  },
  {
   "cell_type": "code",
   "execution_count": 25,
   "metadata": {},
   "outputs": [],
   "source": [
    "data_list = data.find_elements(by=By.XPATH,value='./div')"
   ]
  },
  {
   "cell_type": "code",
   "execution_count": 34,
   "metadata": {},
   "outputs": [
    {
     "data": {
      "text/plain": [
       "'Location\\nREGION VI, NEGROS OCCIDENTAL, CITY OF BACOLOD, ALANGILAN'"
      ]
     },
     "execution_count": 34,
     "metadata": {},
     "output_type": "execute_result"
    }
   ],
   "source": [
    "data_list[1].text"
   ]
  },
  {
   "cell_type": "code",
   "execution_count": 37,
   "metadata": {},
   "outputs": [],
   "source": [
    "pres_list = driver.find_element(by=By.XPATH, value=president_table)"
   ]
  },
  {
   "cell_type": "code",
   "execution_count": 38,
   "metadata": {},
   "outputs": [],
   "source": [
    "pres = pres_list.find_elements(by=By.XPATH,value='./div')"
   ]
  },
  {
   "cell_type": "code",
   "execution_count": 43,
   "metadata": {},
   "outputs": [
    {
     "data": {
      "text/plain": [
       "'DE GUZMAN, LEODY (PLM)\\n2\\n0.32 %'"
      ]
     },
     "execution_count": 43,
     "metadata": {},
     "output_type": "execute_result"
    }
   ],
   "source": [
    "pres[2].text"
   ]
  },
  {
   "cell_type": "code",
   "execution_count": null,
   "metadata": {},
   "outputs": [],
   "source": []
  }
 ],
 "metadata": {
  "kernelspec": {
   "display_name": "election_scraper",
   "language": "python",
   "name": "python3"
  },
  "language_info": {
   "codemirror_mode": {
    "name": "ipython",
    "version": 3
   },
   "file_extension": ".py",
   "mimetype": "text/x-python",
   "name": "python",
   "nbconvert_exporter": "python",
   "pygments_lexer": "ipython3",
   "version": "3.12.8"
  }
 },
 "nbformat": 4,
 "nbformat_minor": 2
}
